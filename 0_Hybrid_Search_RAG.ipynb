{
  "nbformat": 4,
  "nbformat_minor": 0,
  "metadata": {
    "colab": {
      "provenance": [],
      "authorship_tag": "ABX9TyMm/Sm7VOxdlNk2bNnfNhX6",
      "include_colab_link": true
    },
    "kernelspec": {
      "name": "python3",
      "display_name": "Python 3"
    },
    "language_info": {
      "name": "python"
    }
  },
  "cells": [
    {
      "cell_type": "markdown",
      "metadata": {
        "id": "view-in-github",
        "colab_type": "text"
      },
      "source": [
        "<a href=\"https://colab.research.google.com/github/SCCSMARTCODE/rag-mastery/blob/main/0_Hybrid_Search_RAG.ipynb\" target=\"_parent\"><img src=\"https://colab.research.google.com/assets/colab-badge.svg\" alt=\"Open In Colab\"/></a>"
      ]
    },
    {
      "cell_type": "code",
      "execution_count": null,
      "metadata": {
        "colab": {
          "base_uri": "https://localhost:8080/"
        },
        "id": "CxLrBLk5n_Id",
        "outputId": "f81ece01-ae93-4992-89dd-4a5d6a54cde4"
      },
      "outputs": [
        {
          "output_type": "stream",
          "name": "stdout",
          "text": [
            "Vocabulary: {'the': 7, 'cat': 0, 'sat': 6, 'on': 5, 'mat': 4, 'dog': 2, 'log': 3, 'chased': 1}\n",
            "Document vectors:\n",
            " [[0.37420726 0.         0.         0.         0.49203758 0.37420726\n",
            "  0.37420726 0.58121064]\n",
            " [0.         0.         0.37420726 0.49203758 0.         0.37420726\n",
            "  0.37420726 0.58121064]\n",
            " [0.40352536 0.53058735 0.40352536 0.         0.         0.\n",
            "  0.         0.62674687]]\n",
            "Most similar doc: The cat sat on the mat  (score: 0.7226085537594547 )\n"
          ]
        }
      ],
      "source": [
        "from sklearn.feature_extraction.text import TfidfVectorizer\n",
        "from sklearn.metrics.pairwise import cosine_similarity\n",
        "\n",
        "# corpus\n",
        "docs = [\n",
        "    \"The cat sat on the mat\",\n",
        "    \"The dog sat on the log\",\n",
        "    \"The cat chased the dog\"\n",
        "]\n",
        "\n",
        "# build TF-IDF space\n",
        "vectorizer = TfidfVectorizer()\n",
        "doc_vectors = vectorizer.fit_transform(docs)\n",
        "\n",
        "print(\"Vocabulary:\", vectorizer.vocabulary_)\n",
        "print(\"Document vectors:\\n\", doc_vectors.toarray())\n",
        "\n",
        "# query\n",
        "query = \"cat on mat\"\n",
        "query_vec = vectorizer.transform([query])\n",
        "\n",
        "# similarity\n",
        "scores = cosine_similarity(query_vec, doc_vectors).flatten()\n",
        "best_idx = scores.argmax()\n",
        "\n",
        "print(\"Most similar doc:\", docs[best_idx], \" (score:\", scores[best_idx], \")\")"
      ]
    },
    {
      "cell_type": "code",
      "source": [],
      "metadata": {
        "colab": {
          "base_uri": "https://localhost:8080/"
        },
        "id": "5lm5AfvVoXBw",
        "outputId": "6dcbe9da-5ebd-4be8-a553-f2c7a5b4ca29"
      },
      "execution_count": null,
      "outputs": [
        {
          "output_type": "stream",
          "name": "stdout",
          "text": [
            "/content\n"
          ]
        }
      ]
    }
  ]
}